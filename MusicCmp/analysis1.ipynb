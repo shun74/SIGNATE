{
 "metadata": {
  "language_info": {
   "codemirror_mode": {
    "name": "ipython",
    "version": 3
   },
   "file_extension": ".py",
   "mimetype": "text/x-python",
   "name": "python",
   "nbconvert_exporter": "python",
   "pygments_lexer": "ipython3",
   "version": "3.8.6"
  },
  "orig_nbformat": 2,
  "kernelspec": {
   "name": "python386jvsc74a57bd02db524e06e9f5f4ffedc911c917cb75e12dbc923643829bf417064a77eb14d37",
   "display_name": "Python 3.8.6 64-bit"
  },
  "metadata": {
   "interpreter": {
    "hash": "2db524e06e9f5f4ffedc911c917cb75e12dbc923643829bf417064a77eb14d37"
   }
  }
 },
 "nbformat": 4,
 "nbformat_minor": 2,
 "cells": [
  {
   "source": [
    "# Get Ready"
   ],
   "cell_type": "markdown",
   "metadata": {}
  },
  {
   "cell_type": "code",
   "execution_count": null,
   "metadata": {},
   "outputs": [],
   "source": [
    "import numpy as np # linear algebra\n",
    "import pandas as pd # data processing, CSV file I/O (e.g. pd.read_csv)\n",
    "import seaborn as sns\n",
    "import matplotlib.pyplot as plt\n",
    "sns.set_style(\"darkgrid\")\n",
    "\n",
    "# Input data files are available in the read-only \"../input/\" directory\n",
    "# For example, running this (by clicking run or pressing Shift+Enter) will list all files under the input directory\n",
    "\n",
    "import os\n",
    "for dirname, _, filenames in os.walk('./input'):\n",
    "    for filename in filenames:\n",
    "        print(os.path.join(dirname, filename))"
   ]
  },
  {
   "cell_type": "code",
   "execution_count": null,
   "metadata": {},
   "outputs": [],
   "source": [
    "train = pd.read_csv(\"./input/train.csv\",index_col=\"index\")\n",
    "test = pd.read_csv(\"./input/test.csv\")\n",
    "test = test.drop([\"index\"],axis=1)\n",
    "\n",
    "test.head()"
   ]
  },
  {
   "cell_type": "code",
   "execution_count": null,
   "metadata": {},
   "outputs": [],
   "source": []
  },
  {
   "cell_type": "code",
   "execution_count": null,
   "metadata": {},
   "outputs": [],
   "source": [
    "X = pd.concat([train.drop(\"genre\",axis=1),test],axis=0)\n",
    "y = train[[\"genre\"]]"
   ]
  },
  {
   "cell_type": "code",
   "execution_count": null,
   "metadata": {
    "tags": []
   },
   "outputs": [],
   "source": [
    "#tempo analysis\n",
    "X_tempo = X[\"tempo\"]\n",
    "print(X_tempo)\n",
    "tempos = []\n",
    "\n",
    "for i,tempo in enumerate(X_tempo):\n",
    "    tmp = tempo.split(\"-\")\n",
    "    tmp[0] = int(tmp[0])\n",
    "    tmp[1] = int(tmp[1])\n",
    "    tempos.append([tmp[0],tmp[1],(tmp[1]-tmp[0]),((tmp[0]+tmp[1])//2)])\n",
    "\n",
    "tempo_df = pd.DataFrame(tempos,columns=[\"down\",\"up\",\"range\",\"center\"])\n",
    "tempo_df.head()"
   ]
  },
  {
   "cell_type": "code",
   "execution_count": null,
   "metadata": {},
   "outputs": [],
   "source": [
    "fig = plt.figure(figsize=(10,10))\n",
    "for index, col in enumerate(tempo_df.columns):\n",
    "    plt.subplot(2,2,index+1)\n",
    "    sns.distplot(tempo_df.loc[:,col].dropna(),kde=False)\n",
    "fig.tight_layout(pad=1.0)"
   ]
  },
  {
   "cell_type": "code",
   "execution_count": null,
   "metadata": {},
   "outputs": [],
   "source": [
    "fig = plt.figure(figsize=(10,20))\n",
    "for index, col in enumerate(tempo_df.columns):\n",
    "    plt.subplot(5,2,index+1)\n",
    "    sns.boxplot(y=col,data=tempo_df.dropna())\n",
    "fig.tight_layout(pad=1.0)"
   ]
  },
  {
   "cell_type": "code",
   "execution_count": null,
   "metadata": {},
   "outputs": [],
   "source": [
    "X.info()"
   ]
  },
  {
   "cell_type": "code",
   "execution_count": null,
   "metadata": {},
   "outputs": [],
   "source": [
    "X_nums = X.drop([\"tempo\",\"region\"],axis=1)\n",
    "X_nums.info()"
   ]
  },
  {
   "cell_type": "code",
   "execution_count": null,
   "metadata": {},
   "outputs": [],
   "source": [
    "X_cats = X.select_dtypes(include=[\"object\"]).copy()\n",
    "X_cats.info()"
   ]
  },
  {
   "source": [
    "# Visualization and Processing"
   ],
   "cell_type": "markdown",
   "metadata": {}
  },
  {
   "cell_type": "code",
   "execution_count": null,
   "metadata": {},
   "outputs": [],
   "source": [
    "fig = plt.figure(figsize=(15,10))\n",
    "for index, col in enumerate(X_nums.columns):\n",
    "    plt.subplot(3,4,index+1)\n",
    "    sns.distplot(X_nums.loc[:,col].dropna(),kde=False)\n",
    "fig.tight_layout(pad=1.0)"
   ]
  },
  {
   "cell_type": "code",
   "execution_count": null,
   "metadata": {},
   "outputs": [],
   "source": [
    "fig = plt.figure(figsize=(10,10))\n",
    "for index, col in enumerate(X_nums.columns):\n",
    "    plt.subplot(3,4,index+1)\n",
    "    sns.boxplot(y=col,data=X_nums.dropna())\n",
    "fig.tight_layout(pad=1.0)"
   ]
  },
  {
   "cell_type": "code",
   "execution_count": null,
   "metadata": {},
   "outputs": [],
   "source": [
    "plt.figure(figsize=(10,10))\n",
    "correlation = X_nums.corr()\n",
    "\n",
    "sns.heatmap(correlation,linewidths=0.5, mask=correlation<0.4,cmap=\"magma\")"
   ]
  },
  {
   "cell_type": "code",
   "execution_count": null,
   "metadata": {},
   "outputs": [],
   "source": [
    "fig = plt.figure(figsize=(6,5))\n",
    "sns.distplot(y.loc[:,\"genre\"].dropna(),kde=False)\n",
    "fig.tight_layout(pad=1.0)"
   ]
  },
  {
   "cell_type": "code",
   "execution_count": null,
   "metadata": {
    "tags": []
   },
   "outputs": [],
   "source": [
    "#percentage\n",
    "for i in range(10):\n",
    "    print(\"{}:{}\".format(i+1,(y[y[\"genre\"]==i+1].count()/y.size)*100))"
   ]
  },
  {
   "cell_type": "code",
   "execution_count": null,
   "metadata": {},
   "outputs": [],
   "source": [
    "#make tempo in train data\n",
    "train_num = train.select_dtypes(exclude=[\"object\"])\n",
    "train_tempo = train[\"tempo\"]\n",
    "train_tempos = []\n",
    "\n",
    "for i,tempo in enumerate(train_tempo):\n",
    "    tmp = tempo.split(\"-\")\n",
    "    tmp[0] = int(tmp[0])\n",
    "    tmp[1] = int(tmp[1])\n",
    "    train_tempos.append([tmp[0],tmp[1],(tmp[1]-tmp[0]),((tmp[0]+tmp[1])//2)])\n",
    "\n",
    "train_tempo_df = pd.DataFrame(train_tempos,columns=[\"down\",\"up\",\"range\",\"center\"])\n",
    "train_tempo_df = train_tempo_df.drop([\"down\",\"up\"],axis=1)\n",
    "train_num = pd.concat([train_num,train_tempo_df],axis=1)\n",
    "\n",
    "train_num.head()"
   ]
  },
  {
   "cell_type": "code",
   "execution_count": null,
   "metadata": {},
   "outputs": [],
   "source": [
    "#make tempo in test data\n",
    "test_num = test.select_dtypes(exclude=[\"object\"])\n",
    "\n",
    "test_tempo = test[\"tempo\"]\n",
    "test_tempos = []\n",
    "\n",
    "for i,tempo in enumerate(test_tempo):\n",
    "    tmp = tempo.split(\"-\")\n",
    "    tmp[0] = int(tmp[0])\n",
    "    tmp[1] = int(tmp[1])\n",
    "    test_tempos.append([tmp[0],tmp[1],(tmp[1]-tmp[0]),((tmp[0]+tmp[1])//2)])\n",
    "\n",
    "test_tempo_df = pd.DataFrame(test_tempos,columns=[\"down\",\"up\",\"range\",\"center\"])\n",
    "test_tempo_df = test_tempo_df.drop([\"down\",\"up\"],axis=1)\n",
    "test_num = pd.concat([test_num,test_tempo_df],axis=1)\n",
    "\n",
    "test_num.head()"
   ]
  },
  {
   "cell_type": "code",
   "execution_count": null,
   "metadata": {},
   "outputs": [],
   "source": [
    "plt.figure(figsize=(25,8))\n",
    "plt.title(\"Number of mising rows\")\n",
    "missing_count = pd.DataFrame(X.isnull().sum(),columns=[\"sum\"]).sort_values(by=[\"sum\"], ascending=False).reset_index()\n",
    "missing_count.columns = [\"feature\", \"sum\"]\n",
    "sns.barplot(x=\"feature\",y=\"sum\",data=missing_count)"
   ]
  },
  {
   "cell_type": "code",
   "execution_count": null,
   "metadata": {},
   "outputs": [],
   "source": [
    "processed_train = train_num.copy()\n",
    "processed_test = test_num.copy()\n",
    "train_num.isnull().sum()"
   ]
  },
  {
   "cell_type": "code",
   "execution_count": null,
   "metadata": {},
   "outputs": [],
   "source": [
    "X_region = X.loc[:,\"region\"]\n",
    "X_region.unique()"
   ]
  },
  {
   "cell_type": "code",
   "execution_count": null,
   "metadata": {},
   "outputs": [],
   "source": [
    "fig = plt.figure(figsize=(8,5))\n",
    "sns.countplot(x=X_region.loc[:], data=X_region)\n",
    "plt.xticks(rotation=90)\n",
    "fig.tight_layout(pad=1.0)"
   ]
  },
  {
   "cell_type": "code",
   "execution_count": null,
   "metadata": {},
   "outputs": [],
   "source": [
    "train_region = train[[\"region\"]]\n",
    "train_region = pd.get_dummies(train_region)\n",
    "train_region = train_region.drop([\"region_unknown\"],axis=1)\n",
    "train_region.head()"
   ]
  },
  {
   "cell_type": "code",
   "execution_count": null,
   "metadata": {},
   "outputs": [],
   "source": [
    "test_region = test[[\"region\"]]\n",
    "test_region = pd.get_dummies(test_region)\n",
    "test_region = test_region.drop([\"region_unknown\"],axis=1)\n",
    "test_region.head()"
   ]
  },
  {
   "cell_type": "code",
   "execution_count": null,
   "metadata": {},
   "outputs": [],
   "source": [
    "missing_cols = [\"positiveness\",\"danceability\",\"speechiness\",\"liveness\",\"instrumentalness\",\"acousticness\",\"energy\"]\n",
    "for col in missing_cols:\n",
    "    processed_train[col].fillna(processed_train[col].median(),inplace=True)\n",
    "    processed_test[col].fillna(processed_train[col].median(),inplace=True)\n",
    "\n",
    "processed_train.isnull().sum()"
   ]
  },
  {
   "cell_type": "code",
   "execution_count": null,
   "metadata": {},
   "outputs": [],
   "source": [
    "pro_correlation = processed_train.corr()\n",
    "plt.figure(figsize=(10,10))\n",
    "sns.heatmap(pro_correlation,linewidths=0.5,cmap=\"magma\")"
   ]
  },
  {
   "cell_type": "code",
   "execution_count": null,
   "metadata": {},
   "outputs": [],
   "source": [
    "fig = plt.figure(figsize=(20,10))\n",
    "for index in range(12):\n",
    "    plt.subplot(3,4,index+1)\n",
    "    sns.scatterplot(x=processed_train.iloc[:,index], y='genre', data=processed_train)\n",
    "fig.tight_layout(pad=1.0)"
   ]
  },
  {
   "cell_type": "code",
   "execution_count": null,
   "metadata": {},
   "outputs": [],
   "source": [
    "pro_correlation[['genre']].sort_values(['genre'], ascending=False)"
   ]
  },
  {
   "cell_type": "code",
   "execution_count": null,
   "metadata": {},
   "outputs": [],
   "source": [
    "for i in range(len(processed_train)):\n",
    "    processed_train.loc[i,\"duration_ms\"] = np.log( processed_train.loc[i,\"duration_ms\"])\n",
    "\n",
    "for i in range(len(processed_test)):\n",
    "    processed_test.loc[i,\"duration_ms\"] = np.log( processed_test.loc[i,\"duration_ms\"])"
   ]
  },
  {
   "cell_type": "code",
   "execution_count": null,
   "metadata": {},
   "outputs": [],
   "source": [
    "fig = plt.figure(figsize=(15,15))\n",
    "for index, col in enumerate(processed_train.columns):\n",
    "    plt.subplot(9,4,index+1)\n",
    "    sns.distplot(processed_train.loc[:,col],kde=False)\n",
    "fig.tight_layout(pad=1.0)"
   ]
  },
  {
   "cell_type": "code",
   "execution_count": null,
   "metadata": {},
   "outputs": [],
   "source": [
    "processed_train.drop([\"genre\"],axis=1,inplace=True)\n",
    "processed_train.isnull().sum()"
   ]
  },
  {
   "cell_type": "code",
   "execution_count": null,
   "metadata": {},
   "outputs": [],
   "source": [
    "processed_train = pd.concat([processed_train, train_region],axis=1)\n",
    "processed_train.head()"
   ]
  },
  {
   "cell_type": "code",
   "execution_count": null,
   "metadata": {},
   "outputs": [],
   "source": [
    "processed_test = pd.concat([processed_test, test_region],axis=1)\n",
    "processed_test.head()"
   ]
  },
  {
   "cell_type": "code",
   "execution_count": null,
   "metadata": {},
   "outputs": [],
   "source": [
    "# #drop\n",
    "# print(processed_train.shape)\n",
    "# processed_train = processed_train.drop(processed_train[processed_train['1'] < 13.5].index)\n",
    "# processed_train = processed_train.drop(processed_train[processed_train['loudness'] < -25].index)\n",
    "# processed_train = processed_train.drop(processed_train[processed_train['speechiness'] > 0.6].index)\n",
    "# processed_train = processed_train.drop(processed_train[processed_train['instrumentalness'] > 0.8].index)\n",
    "# processed_train.reset_index(drop=True,inplace=True)\n",
    "# processed_train.drop([\"genre\"],axis=1,inplace=True)\n",
    "# print(processed_train.shape)"
   ]
  },
  {
   "cell_type": "code",
   "execution_count": null,
   "metadata": {},
   "outputs": [],
   "source": [
    "processed_test.insert(24,\"region_region_M\",0)"
   ]
  },
  {
   "cell_type": "code",
   "execution_count": null,
   "metadata": {},
   "outputs": [],
   "source": [
    "processed_test.dtypes"
   ]
  },
  {
   "cell_type": "code",
   "execution_count": null,
   "metadata": {},
   "outputs": [],
   "source": [
    "processed_train.dtypes"
   ]
  },
  {
   "cell_type": "code",
   "execution_count": null,
   "metadata": {},
   "outputs": [],
   "source": [
    "fig = plt.figure(figsize=(15,15))\n",
    "for index, col in enumerate(processed_train.columns):\n",
    "    plt.subplot(9,4,index+1)\n",
    "    sns.distplot(processed_train.loc[:,col],kde=False)\n",
    "fig.tight_layout(pad=1.0)"
   ]
  },
  {
   "source": [
    "# Modeling and Predicting"
   ],
   "cell_type": "markdown",
   "metadata": {}
  },
  {
   "cell_type": "code",
   "execution_count": null,
   "metadata": {},
   "outputs": [],
   "source": [
    "from imblearn.over_sampling import SMOTE\n",
    "from sklearn.model_selection import train_test_split\n",
    "from sklearn.preprocessing import StandardScaler\n",
    "\n",
    "from sklearn.discriminant_analysis import LinearDiscriminantAnalysis\n",
    "from sklearn.decomposition import KernelPCA, PCA\n",
    "\n",
    "from sklearn.linear_model import LogisticRegression\n",
    "from sklearn.neighbors import KNeighborsClassifier\n",
    "from sklearn.svm import SVC\n",
    "import xgboost as xgb\n",
    "\n",
    "from sklearn.model_selection import cross_val_score\n",
    "from sklearn.model_selection import RandomizedSearchCV\n",
    "\n",
    "from sklearn import metrics"
   ]
  },
  {
   "cell_type": "code",
   "execution_count": null,
   "metadata": {},
   "outputs": [],
   "source": [
    "smote = SMOTE(random_state=1234)\n",
    "\n",
    "X_train, X_val, y_train, y_val = train_test_split(processed_train, y.iloc[:,0], test_size=0.2, random_state=1234,stratify=y)\n",
    "X_train, X_eval, y_train, y_eval = train_test_split(X_train, y_train,test_size=0.2,random_state=1,stratify=y_train)\n",
    "\n",
    "X_train_res , y_train_res = smote.fit_resample(X_train,y_train)\n",
    "\n",
    "stdScaler = StandardScaler()\n",
    "X_train_std = pd.DataFrame(stdScaler.fit_transform(X_train_res))\n",
    "X_val_std = pd.DataFrame(stdScaler.transform(X_val))\n",
    "X_eval_std = pd.DataFrame(stdScaler.transform(X_eval))"
   ]
  },
  {
   "cell_type": "code",
   "execution_count": null,
   "metadata": {},
   "outputs": [],
   "source": [
    "print(y_train_res.count)"
   ]
  },
  {
   "cell_type": "code",
   "execution_count": null,
   "metadata": {},
   "outputs": [],
   "source": [
    "pca = PCA(n_components=20)\n",
    "X_train_pca = pca.fit_transform(X_train_std)\n",
    "X_val_pca = pca.transform(X_val_std)\n",
    "X_eval_pca = pca.transform(X_eval_std)"
   ]
  },
  {
   "cell_type": "code",
   "execution_count": null,
   "metadata": {},
   "outputs": [],
   "source": [
    "kpca = KernelPCA(n_components=2,kernel=\"rbf\",gamma=15)\n",
    "X_train_kpca = kpca.fit_transform(X_train_std)\n",
    "X_val_kpca = kpca.transform(X_val_std)\n",
    "X_eval_kpca = kpca.transform(X_eval_std)"
   ]
  },
  {
   "cell_type": "code",
   "execution_count": null,
   "metadata": {},
   "outputs": [],
   "source": [
    "X_val_kpca.shape"
   ]
  },
  {
   "cell_type": "code",
   "execution_count": null,
   "metadata": {},
   "outputs": [],
   "source": [
    "lda = LinearDiscriminantAnalysis(n_components=None)\n",
    "X_train_lda = lda.fit_transform(X_train_std,y_train_res)\n",
    "X_val_lda = lda.transform(X_val_std)\n",
    "X_eval_lda = pca.transform(X_eval_std)"
   ]
  },
  {
   "cell_type": "code",
   "execution_count": null,
   "metadata": {},
   "outputs": [],
   "source": [
    "X_train_final = X_train_lda\n",
    "X_val_final = X_val_lda\n",
    "X_eval_final = X_eval_lda"
   ]
  },
  {
   "cell_type": "code",
   "execution_count": null,
   "metadata": {},
   "outputs": [],
   "source": [
    "lda.explained_variance_ratio_"
   ]
  },
  {
   "cell_type": "code",
   "execution_count": null,
   "metadata": {},
   "outputs": [],
   "source": [
    "cum_var_exp = np.cumsum(lda.explained_variance_ratio_)\n",
    "plt.step(range(1,len(cum_var_exp)+1),cum_var_exp)"
   ]
  },
  {
   "cell_type": "code",
   "execution_count": null,
   "metadata": {},
   "outputs": [],
   "source": [
    "# logistic regression\n",
    "iter_range = range(1,100, 3)\n",
    "\n",
    "lr_accuracy = []\n",
    "lr_f1 = []\n",
    "for _iter in iter_range:\n",
    "    lr = LogisticRegression(max_iter=_iter)\n",
    "    lr.fit(X_train_final, y_train_res)\n",
    "    y_pred_lr = lr.predict(X_val_final)\n",
    "    lr_accuracy.append(metrics.accuracy_score(y_val, y_pred_lr))\n",
    "    lr_f1.append(metrics.f1_score(y_val,lr.predict(X_val_final),average='macro'))"
   ]
  },
  {
   "cell_type": "code",
   "execution_count": null,
   "metadata": {},
   "outputs": [],
   "source": [
    "plt.plot(iter_range, lr_accuracy)\n",
    "plt.xlabel('iter for lr')\n",
    "plt.ylabel('Testing Accuracy')"
   ]
  },
  {
   "cell_type": "code",
   "execution_count": null,
   "metadata": {},
   "outputs": [],
   "source": [
    "plt.plot(iter_range, lr_f1)\n",
    "plt.xlabel('K for lr')\n",
    "plt.ylabel('Testing F1 score')"
   ]
  },
  {
   "cell_type": "code",
   "execution_count": null,
   "metadata": {},
   "outputs": [],
   "source": [
    "# K-means\n",
    "k_range = range(1, 20)\n",
    "\n",
    "knn_accuracy = []\n",
    "knn_f1 = []\n",
    "for k in k_range:\n",
    "    knn = KNeighborsClassifier(n_neighbors=k)\n",
    "    knn.fit(X_train_final, y_train_res)\n",
    "    y_pred_knn = knn.predict(X_val_final)\n",
    "    knn_accuracy.append(metrics.accuracy_score(y_val, y_pred_knn))\n",
    "    knn_f1.append(metrics.f1_score(y_val,knn.predict(X_val_final),average='macro'))"
   ]
  },
  {
   "cell_type": "code",
   "execution_count": null,
   "metadata": {},
   "outputs": [],
   "source": [
    "plt.plot(k_range, knn_accuracy)\n",
    "plt.xlabel('K for kNN')\n",
    "plt.ylabel('Testing Accuracy')"
   ]
  },
  {
   "cell_type": "code",
   "execution_count": null,
   "metadata": {},
   "outputs": [],
   "source": [
    "plt.plot(k_range, knn_f1)\n",
    "plt.xlabel('K for kNN')\n",
    "plt.ylabel('Testing F1 score')"
   ]
  },
  {
   "cell_type": "code",
   "execution_count": null,
   "metadata": {},
   "outputs": [],
   "source": [
    "#kernel SVC\n",
    "# for C in [0.01, 0.1, 1, 10, 100]:\n",
    "#     for gamma in [0.1, 1, 10]:\n",
    "#         clf = SVC(C=C, gamma=gamma)\n",
    "#         clf.fit(X_train_final, y_train_res)\n",
    "#         ac_score = metrics.accuracy_score(y_val, clf.predict(X_val_final))\n",
    "#         f1_score = metrics.f1_score(y_val,clf.predict(X_val_final),average='macro')\n",
    "#         # print(clf.score(X_train_final,y_train))\n",
    "#         print(ac_score, \"C = %s, gamma = %s\" % (C, gamma))\n",
    "#         print(f1_score,\"f1_score\")"
   ]
  },
  {
   "cell_type": "code",
   "execution_count": null,
   "metadata": {},
   "outputs": [],
   "source": [
    "from sklearn.datasets import load_iris\n",
    "\n",
    "iris = load_iris()\n",
    "\n",
    "iris_data = pd.DataFrame(iris.data, columns=iris.feature_names)\n",
    "iris_target = pd.Series(iris.target)"
   ]
  },
  {
   "cell_type": "code",
   "execution_count": null,
   "metadata": {},
   "outputs": [],
   "source": [
    "X_train_final.shape"
   ]
  },
  {
   "cell_type": "code",
   "execution_count": null,
   "metadata": {
    "tags": []
   },
   "outputs": [],
   "source": [
    "# XGBoost\n",
    "dtrain = xgb.DMatrix(X_train_final, label=y_train_res)\n",
    "dvalid = xgb.DMatrix(X_val_final, label=y_val)\n",
    "\n",
    "param = {'max_depth': 5, 'eta': 0.5, 'objective': 'multi:softmax', 'num_class': 11, 'eval_metric': 'mlogloss'}\n",
    "evallist = [(dvalid, 'eval'), (dtrain, 'train')]\n",
    "num_round = 50\n",
    "bst = xgb.train(param, dtrain, num_round, evallist, early_stopping_rounds=5)"
   ]
  },
  {
   "cell_type": "code",
   "execution_count": null,
   "metadata": {},
   "outputs": [],
   "source": [
    "print('Best Score:{0:.4f}, Iteratin:{1:d}, Ntree_Limit:{2:d}'.format(bst.best_score, bst.best_iteration, bst.best_ntree_limit))"
   ]
  },
  {
   "cell_type": "code",
   "execution_count": null,
   "metadata": {},
   "outputs": [],
   "source": [
    "dtest = xgb.DMatrix(X_eval_final)\n",
    "pred = bst.predict(dtest, ntree_limit=bst.best_ntree_limit)"
   ]
  },
  {
   "cell_type": "code",
   "execution_count": null,
   "metadata": {},
   "outputs": [],
   "source": [
    "ac_score = metrics.accuracy_score(y_eval, pred)\n",
    "f1_score = metrics.f1_score(y_eval,pred,average='macro')\n",
    "print('ac score:{0:.4f}'.format(ac_score))\n",
    "print('f1 score:{0:.4f}'.format(f1_score))"
   ]
  },
  {
   "cell_type": "code",
   "execution_count": null,
   "metadata": {},
   "outputs": [],
   "source": [
    "xgb.plot_importance(bst)"
   ]
  },
  {
   "source": [
    "# Make Submission"
   ],
   "cell_type": "markdown",
   "metadata": {}
  },
  {
   "cell_type": "code",
   "execution_count": null,
   "metadata": {},
   "outputs": [],
   "source": [
    "print(processed_train.shape)\n",
    "print(y.shape)"
   ]
  },
  {
   "cell_type": "code",
   "execution_count": null,
   "metadata": {},
   "outputs": [],
   "source": [
    "smote = SMOTE(random_state=1234)\n",
    "processed_train_res ,y_res = smote.fit_resample(processed_train,y.iloc[:,0])\n",
    "submission_stdScaler = StandardScaler()\n",
    "processed_train_res_std = pd.DataFrame(submission_stdScaler.fit_transform(processed_train_res))\n",
    "processed_test_std = pd.DataFrame(submission_stdScaler.fit_transform(processed_test))"
   ]
  },
  {
   "cell_type": "code",
   "execution_count": null,
   "metadata": {},
   "outputs": [],
   "source": [
    "submission_clf = SVC(C=1, gamma=0.1)\n",
    "submission_clf.fit(processed_train_res_std, y[\"genre\"])\n",
    "y_pred = submission_clf.predict(processed_test_std)\n",
    "\n",
    "svc = SVC(C=1, gamma=0.1)\n",
    "svc.fit(X_train_std, y_train_std)\n",
    "ac_score = metrics.accuracy_score(y_eval, svc.predict(X_eval_std))\n",
    "f1_score = metrics.f1_score(y_eval,svc.predict(X_eval_std),average='macro')\n",
    "print(svc.score(X_train,y_train))\n",
    "print(ac_score)\n",
    "print(f1_score)"
   ]
  },
  {
   "cell_type": "code",
   "execution_count": null,
   "metadata": {},
   "outputs": [],
   "source": [
    "dtrain = xgb.DMatrix(processed_train_res_std, label=y_res)\n",
    "dvalid = xgb.DMatrix(X_val_final, label=y_val)\n",
    "\n",
    "param = {'max_depth': 5, 'eta': 0.5, 'objective': 'multi:softmax', 'num_class': 11, 'eval_metric': 'mlogloss'}\n",
    "evallist = [(dvalid, 'eval'), (dtrain, 'train')]\n",
    "num_round = 50\n",
    "bst = xgb.train(param, dtrain, num_round, evallist, early_stopping_rounds=5)\n",
    "\n",
    "dtest = xgb.DMatrix(processed_test_std)\n",
    "pred = bst.predict(dtest, ntree_limit=bst.best_ntree_limit)"
   ]
  },
  {
   "cell_type": "code",
   "execution_count": null,
   "metadata": {},
   "outputs": [],
   "source": [
    "submission_df = pd.DataFrame(pred)\n",
    "submission_df.insert(0,'index',0)\n",
    "for i in range(len(submission_df)):\n",
    "    submission_df.loc[i,\"index\"] = i + 4046\n",
    "submission_df.set_index(\"index\")\n",
    "submission_df = submission_df.astype(\"int64\")\n",
    "submission_df.dtypes"
   ]
  },
  {
   "cell_type": "code",
   "execution_count": null,
   "metadata": {},
   "outputs": [],
   "source": [
    "submission_df.to_csv(\"./output/prediction_xgb.csv\",index=False,header=False)"
   ]
  },
  {
   "cell_type": "code",
   "execution_count": null,
   "metadata": {},
   "outputs": [],
   "source": []
  }
 ]
}