{
 "metadata": {
  "language_info": {
   "codemirror_mode": {
    "name": "ipython",
    "version": 3
   },
   "file_extension": ".py",
   "mimetype": "text/x-python",
   "name": "python",
   "nbconvert_exporter": "python",
   "pygments_lexer": "ipython3",
   "version": "3.8.6"
  },
  "orig_nbformat": 2,
  "kernelspec": {
   "name": "python386jvsc74a57bd02db524e06e9f5f4ffedc911c917cb75e12dbc923643829bf417064a77eb14d37",
   "display_name": "Python 3.8.6 64-bit"
  },
  "metadata": {
   "interpreter": {
    "hash": "2db524e06e9f5f4ffedc911c917cb75e12dbc923643829bf417064a77eb14d37"
   }
  }
 },
 "nbformat": 4,
 "nbformat_minor": 2,
 "cells": [
  {
   "source": [
    "# Get Ready"
   ],
   "cell_type": "markdown",
   "metadata": {}
  },
  {
   "cell_type": "code",
   "execution_count": null,
   "metadata": {},
   "outputs": [],
   "source": [
    "import numpy as np # linear algebra\n",
    "import pandas as pd # data processing, CSV file I/O (e.g. pd.read_csv)\n",
    "import seaborn as sns\n",
    "import matplotlib.pyplot as plt\n",
    "sns.set_style(\"darkgrid\")\n",
    "\n",
    "# Input data files are available in the read-only \"../input/\" directory\n",
    "# For example, running this (by clicking run or pressing Shift+Enter) will list all files under the input directory\n",
    "\n",
    "import os\n",
    "for dirname, _, filenames in os.walk('./input'):\n",
    "    for filename in filenames:\n",
    "        print(os.path.join(dirname, filename))"
   ]
  },
  {
   "cell_type": "code",
   "execution_count": null,
   "metadata": {},
   "outputs": [],
   "source": [
    "train = pd.read_csv(\"./input/train.csv\",index_col=\"index\")\n",
    "test = pd.read_csv(\"./input/test.csv\")\n",
    "test = test.drop([\"index\"],axis=1)\n",
    "y = train[\"genre\"].copy()\n",
    "train.drop([\"genre\"],axis=1)"
   ]
  },
  {
   "cell_type": "code",
   "execution_count": null,
   "metadata": {},
   "outputs": [],
   "source": [
    "train"
   ]
  },
  {
   "cell_type": "code",
   "execution_count": null,
   "metadata": {},
   "outputs": [],
   "source": [
    "#make tempo to num\n",
    "def tempo_to_int(tempo):\n",
    "    tempos = []\n",
    "    for tempo in tempo:\n",
    "        tmp = tempo.split(\"-\")\n",
    "        tmp[0] = int(tmp[0])\n",
    "        tmp[1] = int(tmp[1])\n",
    "        tempos.append([tmp[1]-tmp[0],(tmp[0]+tmp[1])//2])\n",
    "    tempos_df = pd.DataFrame(tempos,columns=[\"tempo_range\",\"tempo_center\"])\n",
    "    return tempos_df"
   ]
  },
  {
   "cell_type": "code",
   "execution_count": null,
   "metadata": {},
   "outputs": [],
   "source": [
    "# tempo -> tempo_renge, tempo_center\n",
    "train = pd.concat([train.drop([\"tempo\"],axis=1),tempo_to_int(train[\"tempo\"])],axis=1)\n",
    "test = pd.concat([test.drop([\"tempo\"],axis=1),tempo_to_int(test[\"tempo\"])],axis=1)"
   ]
  },
  {
   "cell_type": "code",
   "execution_count": null,
   "metadata": {},
   "outputs": [],
   "source": [
    "#fill missing value\n",
    "missing_cols = [\"positiveness\",\"danceability\",\"speechiness\",\"liveness\",\"instrumentalness\",\"acousticness\",\"energy\"]\n",
    "for col in missing_cols:\n",
    "    train[col].fillna(train[col].median(),inplace=True)\n",
    "    test[col].fillna(train[col].median(),inplace=True)"
   ]
  },
  {
   "cell_type": "code",
   "execution_count": null,
   "metadata": {},
   "outputs": [],
   "source": [
    "train.drop([\"genre\"],axis=1,inplace=True)"
   ]
  },
  {
   "cell_type": "code",
   "execution_count": null,
   "metadata": {},
   "outputs": [],
   "source": [
    "un_dummied_train = train.copy()\n",
    "un_dummied_test = test.copy()"
   ]
  },
  {
   "cell_type": "code",
   "execution_count": null,
   "metadata": {},
   "outputs": [],
   "source": [
    "# region to dummy\n",
    "# Unkonwnは埋め方が分からないです\n",
    "train = pd.get_dummies(train)\n",
    "test = pd.get_dummies(test)\n",
    "train = train.drop([\"region_unknown\"],axis=1)\n",
    "test = test.drop([\"region_unknown\"],axis=1)\n",
    "test.insert(24,\"region_region_M\",0)"
   ]
  },
  {
   "source": [
    "# Modeling"
   ],
   "cell_type": "markdown",
   "metadata": {}
  },
  {
   "cell_type": "code",
   "execution_count": null,
   "metadata": {},
   "outputs": [],
   "source": [
    "from imblearn.over_sampling import SMOTE\n",
    "from sklearn.model_selection import train_test_split\n",
    "from sklearn.preprocessing import StandardScaler\n",
    "\n",
    "from sklearn.discriminant_analysis import LinearDiscriminantAnalysis\n",
    "from sklearn.decomposition import KernelPCA, PCA\n",
    "\n",
    "from sklearn.linear_model import LogisticRegression\n",
    "from sklearn.neighbors import KNeighborsClassifier\n",
    "from sklearn.svm import SVC\n",
    "import xgboost as xgb\n",
    "from catboost import Pool, CatBoostClassifier\n",
    "\n",
    "from sklearn.model_selection import GridSearchCV\n",
    "from sklearn.model_selection import RandomizedSearchCV\n",
    "from sklearn.model_selection import StratifiedKFold\n",
    "\n",
    "from sklearn import metrics"
   ]
  },
  {
   "cell_type": "code",
   "execution_count": null,
   "metadata": {},
   "outputs": [],
   "source": [
    "X_train, X_val, y_train, y_val = train_test_split(train, y, test_size=0.2, random_state=1234,stratify=y)\n",
    "X_train, X_eval, y_train, y_eval = train_test_split(X_train, y_train,test_size=0.2,random_state=1,stratify=y_train)\n",
    "\n",
    "smote = SMOTE(random_state=1234)\n",
    "X_train_res , y_train_res = smote.fit_resample(X_train,y_train)\n",
    "\n",
    "stdScaler = StandardScaler()\n",
    "X_train_std = pd.DataFrame(stdScaler.fit_transform(X_train_res))\n",
    "X_val_std = pd.DataFrame(stdScaler.transform(X_val))\n",
    "X_eval_std = pd.DataFrame(stdScaler.transform(X_eval))"
   ]
  },
  {
   "cell_type": "code",
   "execution_count": null,
   "metadata": {},
   "outputs": [],
   "source": [
    "pca = PCA(n_components=20)\n",
    "X_train_pca = pca.fit_transform(X_train_std)\n",
    "X_val_pca = pca.transform(X_val_std)\n",
    "X_eval_pca = pca.transform(X_eval_std)"
   ]
  },
  {
   "cell_type": "code",
   "execution_count": null,
   "metadata": {},
   "outputs": [],
   "source": [
    "kpca = KernelPCA(n_components=2,kernel=\"rbf\",gamma=15)\n",
    "X_train_kpca = kpca.fit_transform(X_train_std)\n",
    "X_val_kpca = kpca.transform(X_val_std)\n",
    "X_eval_kpca = kpca.transform(X_eval_std)"
   ]
  },
  {
   "cell_type": "code",
   "execution_count": null,
   "metadata": {},
   "outputs": [],
   "source": [
    "lda = LinearDiscriminantAnalysis(n_components=None)\n",
    "X_train_lda = lda.fit_transform(X_train_std,y_train_res)\n",
    "X_val_lda = lda.transform(X_val_std)\n",
    "X_eval_lda = pca.transform(X_eval_std)"
   ]
  },
  {
   "cell_type": "code",
   "execution_count": null,
   "metadata": {},
   "outputs": [],
   "source": [
    "X_train_final = X_train_std\n",
    "X_val_final = X_val_std\n",
    "X_eval_final = X_eval_std"
   ]
  },
  {
   "cell_type": "code",
   "execution_count": null,
   "metadata": {},
   "outputs": [],
   "source": [
    "# logistic regression\n",
    "iter_range = range(1,100, 3)\n",
    "\n",
    "lr_accuracy = []\n",
    "lr_f1 = []\n",
    "for _iter in iter_range:\n",
    "    lr = LogisticRegression(max_iter=_iter)\n",
    "    lr.fit(X_train_final, y_train_res)\n",
    "    y_pred_lr = lr.predict(X_val_final)\n",
    "    lr_accuracy.append(metrics.accuracy_score(y_val, y_pred_lr))\n",
    "    lr_f1.append(metrics.f1_score(y_val,lr.predict(X_val_final),average='macro'))"
   ]
  },
  {
   "cell_type": "code",
   "execution_count": null,
   "metadata": {},
   "outputs": [],
   "source": [
    "def plot_scores(_range,accuracy,f1):\n",
    "    plt.figure(figsize=(12,5))\n",
    "    plt.subplot(1,2,1)\n",
    "    plt.plot(_range, accuracy)\n",
    "    plt.title('Testing Accuracy')\n",
    "\n",
    "    plt.subplot(1,2,2)\n",
    "    plt.plot(_range, f1)\n",
    "    plt.title('Testing F1 score')\n",
    "\n",
    "    plt.tight_layout(pad=1)"
   ]
  },
  {
   "cell_type": "code",
   "execution_count": null,
   "metadata": {},
   "outputs": [],
   "source": [
    "plot_scores(iter_range,lr_accuracy,lr_f1)"
   ]
  },
  {
   "cell_type": "code",
   "execution_count": null,
   "metadata": {},
   "outputs": [],
   "source": [
    "# K-means\n",
    "k_range = range(1, 20)\n",
    "\n",
    "knn_accuracy = []\n",
    "knn_f1 = []\n",
    "for k in k_range:\n",
    "    knn = KNeighborsClassifier(n_neighbors=k)\n",
    "    knn.fit(X_train_final, y_train_res)\n",
    "    y_pred_knn = knn.predict(X_val_final)\n",
    "    knn_accuracy.append(metrics.accuracy_score(y_val, y_pred_knn))\n",
    "    knn_f1.append(metrics.f1_score(y_val,knn.predict(X_val_final),average='macro'))"
   ]
  },
  {
   "cell_type": "code",
   "execution_count": null,
   "metadata": {},
   "outputs": [],
   "source": [
    "plot_scores(k_range,knn_accuracy,knn_f1)"
   ]
  },
  {
   "cell_type": "code",
   "execution_count": null,
   "metadata": {},
   "outputs": [],
   "source": [
    "#kernel SVC\n",
    "for C in [0.01, 0.1, 1, 10, 100]:\n",
    "    for gamma in [0.01, 0.1, 1]:\n",
    "        svc = SVC(C=C, gamma=gamma)\n",
    "        svc.fit(X_train_final, y_train_res)\n",
    "        ac_score = metrics.accuracy_score(y_val, svc.predict(X_val_final))\n",
    "        f1_score = metrics.f1_score(y_val,svc.predict(X_val_final),average='macro')\n",
    "        print(f\"accuracy:{ac_score:.4f} f1:{f1_score:.4f} C={C} gamma={gamma}\")"
   ]
  },
  {
   "cell_type": "code",
   "execution_count": null,
   "metadata": {},
   "outputs": [],
   "source": [
    "for C in [5,10,20,50,100,200]:\n",
    "    for gamma in [0.01,0.1]:\n",
    "        svc = SVC(C=C, gamma=gamma)\n",
    "        svc.fit(X_train_final, y_train_res)\n",
    "        ac_score = metrics.accuracy_score(y_val, svc.predict(X_val_final))\n",
    "        f1_score = metrics.f1_score(y_val,svc.predict(X_val_final),average='macro')\n",
    "        print(f\"accuracy:{ac_score:.4f} f1:{f1_score:.4f} C={C} gamma={gamma}\")"
   ]
  },
  {
   "cell_type": "code",
   "execution_count": null,
   "metadata": {
    "tags": []
   },
   "outputs": [],
   "source": [
    "# XGBoost\n",
    "# dtrain = xgb.DMatrix(X_train_final, label=y_train_res)\n",
    "# dvalid = xgb.DMatrix(X_val_final, label=y_val)\n",
    "\n",
    "# # param = {'max_depth': 6, 'eta': 0.1, 'objective': 'multi:softmax', 'num_class': 11, 'eval_metric': 'mlogloss'}\n",
    "# params = {\"learning_rate\":[0.1,0.3,0.5],\n",
    "#         \"max_depth\": [2,3,5,8,10],\n",
    "#          \"subsample\":[0.5,0.8,0.9,1],\n",
    "#          \"colsample_bytree\": [0.5,1.0],\n",
    "#          'objective': ['multi:softmax'],\n",
    "#          'num_class': [11],\n",
    "#          }\n",
    "\n",
    "# mod = xgb.XGBRegressor()\n",
    "# cv = GridSearchCV(mod, params, cv = 10, n_jobs =6)\n",
    "\n",
    "# cv.fit(X_train_final,y_train_res)\n",
    "\n",
    "# evallist = [(dvalid, 'eval'), (dtrain, 'train')]\n",
    "# num_round = 100\n",
    "# bst = xgb.train(param, dtrain, num_round, evallist, early_stopping_rounds=5)\n",
    "\n",
    "# dtest = xgb.DMatrix(X_eval_final)\n",
    "# pred = bst.predict(dtest, ntree_limit=bst.best_ntree_limit)"
   ]
  },
  {
   "cell_type": "code",
   "execution_count": null,
   "metadata": {},
   "outputs": [],
   "source": [
    "# y_train_pred = cv.predict(X_train_std)\n",
    "# y_val_pred = cv.predict(X_val_std)\n",
    "\n",
    "# ac_score = metrics.accuracy_score(y_val, y_val_pred)\n",
    "# f1_score = metrics.f1_score(y_val,y_val_pred,average='macro')\n",
    "# print('ac score:{0:.4f}'.format(ac_score))\n",
    "# print('f1 score:{0:.4f}'.format(f1_score))"
   ]
  },
  {
   "cell_type": "code",
   "execution_count": null,
   "metadata": {},
   "outputs": [],
   "source": [
    "# ac_score = metrics.accuracy_score(y_eval, pred)\n",
    "# f1_score = metrics.f1_score(y_eval,pred,average='macro')\n",
    "# print('ac score:{0:.4f}'.format(ac_score))\n",
    "# print('f1 score:{0:.4f}'.format(f1_score))"
   ]
  },
  {
   "cell_type": "code",
   "execution_count": null,
   "metadata": {},
   "outputs": [],
   "source": [
    "# xgb.plot_importance(bst)"
   ]
  },
  {
   "cell_type": "code",
   "execution_count": null,
   "metadata": {},
   "outputs": [],
   "source": [
    "un_dummied_X_train, un_dummied_X_val, un_dummied_y_train, un_dummied_y_val = train_test_split(un_dummied_train, y, test_size=0.2, random_state=1234,stratify=y)\n",
    "un_dummied_X_train, un_dummied_X_eval, un_dummied_y_train, un_dummied_y_eval = train_test_split(un_dummied_X_train, un_dummied_y_train,test_size=0.2,random_state=1,stratify=un_dummied_y_train)\n",
    "\n",
    "smote = SMOTE(random_state=1234)\n",
    "# un_dummied_X_train_res , un_dummied_y_train_res = smote.fit_resample(un_dummied_X_train,un_dummied_y_train)"
   ]
  },
  {
   "cell_type": "code",
   "execution_count": null,
   "metadata": {},
   "outputs": [],
   "source": [
    "list(un_dummied_train)"
   ]
  },
  {
   "cell_type": "code",
   "execution_count": null,
   "metadata": {},
   "outputs": [],
   "source": [
    "# Cat boost\n",
    "# trainデータセット\n",
    "train_pool = Pool(\n",
    "    X_train_final, \n",
    "    y_train_res,\n",
    "    feature_names=list(X_train_final)\n",
    ")\n",
    "\n",
    "# testデータセット\n",
    "test_pool = Pool(\n",
    "    X_val_final, \n",
    "    y_val,\n",
    "    feature_names=list(X_val_final)\n",
    ")\n",
    "\n",
    "catboost_default_params = {\n",
    "    'iterations': 1000,\n",
    "    'learning_rate': 0.03,\n",
    "    'eval_metric': 'Accuracy',\n",
    "    'random_seed': 0, \n",
    "    'verbose': 100\n",
    "\n",
    "}\n",
    "\n",
    "# 多クラス分類\n",
    "clf = CatBoostClassifier(**catboost_default_params)\n",
    "clf.fit(train_pool)"
   ]
  },
  {
   "cell_type": "code",
   "execution_count": null,
   "metadata": {},
   "outputs": [],
   "source": [
    "y_pred = clf.predict(X_val_final)\n",
    "ac_score = metrics.accuracy_score(y_val, svc.predict(X_val_final))\n",
    "f1_score = metrics.f1_score(y_val,svc.predict(X_val_final),average='macro')\n",
    "print(f\"accuracy:{ac_score:.4f} f1:{f1_score:.4f}\")"
   ]
  },
  {
   "source": [
    "# Submission"
   ],
   "cell_type": "markdown",
   "metadata": {}
  },
  {
   "cell_type": "code",
   "execution_count": null,
   "metadata": {},
   "outputs": [],
   "source": [
    "smote = SMOTE(random_state=1234)\n",
    "train_res ,y_res = smote.fit_resample(train,y)\n",
    "submission_stdScaler = StandardScaler()\n",
    "train_res_std = pd.DataFrame(submission_stdScaler.fit_transform(train_res))\n",
    "test_std = pd.DataFrame(submission_stdScaler.transform(test))"
   ]
  },
  {
   "cell_type": "code",
   "execution_count": null,
   "metadata": {},
   "outputs": [],
   "source": [
    "clf = SVC(C=10, gamma=0.1)\n",
    "clf.fit(train_res_std, y_res)\n",
    "y_pred = clf.predict(test_std)"
   ]
  },
  {
   "cell_type": "code",
   "execution_count": null,
   "metadata": {},
   "outputs": [],
   "source": [
    "submission_df = pd.DataFrame(y_pred)\n",
    "submission_df.insert(0,'index',0)\n",
    "for i in range(len(submission_df)):\n",
    "    submission_df.loc[i,\"index\"] = i + 4046\n",
    "submission_df.set_index(\"index\")\n",
    "submission_df = submission_df.astype(\"int64\")\n",
    "submission_df.dtypes"
   ]
  },
  {
   "cell_type": "code",
   "execution_count": null,
   "metadata": {},
   "outputs": [],
   "source": [
    "submission_df.to_csv(\"./output/prediction_kernelSVC.csv\",index=False,header=False)"
   ]
  },
  {
   "cell_type": "code",
   "execution_count": null,
   "metadata": {},
   "outputs": [],
   "source": []
  }
 ]
}